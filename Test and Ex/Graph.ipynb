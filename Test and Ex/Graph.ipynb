{
 "cells": [
  {
   "cell_type": "code",
   "execution_count": 4,
   "metadata": {
    "collapsed": false,
    "scrolled": true
   },
   "outputs": [
    {
     "name": "stdout",
     "output_type": "stream",
     "text": [
      "(['Central', 'Eastern', 'North Eastern', 'Northern', 'Western', 'Southern'], {'     19. ใบอนุญาตขับรถใช้งานเกษตรกรรม Farm Vehicle Driving Licence': [54, 21, 12089, 2451, 21, 9], '6. ใบอนุญาตขับรถจักรยานยนต์หนึ่งปี Motorcycle (One Year)    ': [0, 0, 0, 0, 0, 0], '     18. ใบอนุญาตขับรถแทรกเตอร์ Tractor Driving Licence': [1199, 732, 1462, 1808, 497, 446], '3. ใบอนุญาตขับรถจักรยานยนต์ชั่วคราว Motorcycle (Temporary)': [43852, 33269, 152757, 121859, 30401, 59977], '10. ใบอนุญาตขับรถยนต์ส่วนบุคคลตลอดชีพ Private  Automobile (Life)': [775642, 557741, 916177, 1132867, 603238, 610603], '12. ใบอนุญาตขับรถจักรยานยนต์ตลอดชีพ Motorcycle (Life)': [673889, 449274, 1096616, 1612434, 648837, 838616], '11. ใบอนุญาตขับรถยนต์สามล้อส่วนบุคคลตลอดชีพ Motor  Tricycle (Life)': [557, 397, 2119, 594, 273, 193], '1. ใบอนุญาตขับรถยนต์ส่วนบุคคลชั่วคราว Private  Automobile (Temporary)': [90420, 76251, 167226, 125507, 59927, 79262], '4. ใบอนุญาตขับรถยนต์ส่วนบุคคลหนึ่งปี Private  Automobile (One Year)  ': [0, 0, 0, 0, 0, 0], '     17. ใบอนุญาตขับรถบดถนน Tractor': [12, 32, 22, 17, 4, 49], '8. ใบอนุญาตขับรถยนต์สามล้อส่วนบุคคล Private  Motor  Tricycle (Five Years) ': [825, 549, 8695, 483, 303, 34], '     20. ใบอนุญาตขับรถอื่นๆ Others Driving Licence': [0, 0, 0, 1, 8, 0], '     14. ใบอนุญาตขับรถยนต์สามล้อสาธารณะ Public  Motor  Tricycle': [822, 841, 2694, 947, 380, 6], '     16. ใบอนุญาตขับรถระหว่างประเทศ International  Driving  Licence': [4680, 3204, 7112, 5836, 1700, 4375], '5. ใบอนุญาตขับรถยนต์สามล้อส่วนบุคคลหนึ่งปี Private  Motor  Tricycle (One Year) ': [0, 0, 0, 0, 0, 0], '     13. ใบอนุญาตขับรถยนต์สาธารณะ Public  Automobile': [25571, 3119, 13750, 2280, 4196, 3625], '2. ใบอนุญาตขับรถยนต์สามล้อส่วนบุคคลชั่วคราว Private  Motor  Tricycle (Temporary)': [49, 50, 1159, 205, 39, 17], '9. ใบอนุญาตขับรถจักรยานยนต์ Motorcycle (Five Years)    ': [738558, 626591, 1729160, 1315000, 485009, 738380], '     15. ใบอนุญาตขับรถจักรยานยนต์สาธารณะ Public  Motorcycle': [42584, 14722, 8742, 5935, 15408, 10675], '7. ใบอนุญาตขับรถยนต์ส่วนบุคคล Private  Automobile (Five Years)  ': [1051994, 951184, 1908029, 1332421, 671046, 1084263]}, ['1. ใบอนุญาตขับรถยนต์ส่วนบุคคลชั่วคราว Private  Automobile (Temporary)', '2. ใบอนุญาตขับรถยนต์สามล้อส่วนบุคคลชั่วคราว Private  Motor  Tricycle (Temporary)', '3. ใบอนุญาตขับรถจักรยานยนต์ชั่วคราว Motorcycle (Temporary)', '4. ใบอนุญาตขับรถยนต์ส่วนบุคคลหนึ่งปี Private  Automobile (One Year)  ', '5. ใบอนุญาตขับรถยนต์สามล้อส่วนบุคคลหนึ่งปี Private  Motor  Tricycle (One Year) ', '6. ใบอนุญาตขับรถจักรยานยนต์หนึ่งปี Motorcycle (One Year)    ', '7. ใบอนุญาตขับรถยนต์ส่วนบุคคล Private  Automobile (Five Years)  ', '8. ใบอนุญาตขับรถยนต์สามล้อส่วนบุคคล Private  Motor  Tricycle (Five Years) ', '9. ใบอนุญาตขับรถจักรยานยนต์ Motorcycle (Five Years)    ', '10. ใบอนุญาตขับรถยนต์ส่วนบุคคลตลอดชีพ Private  Automobile (Life)', '11. ใบอนุญาตขับรถยนต์สามล้อส่วนบุคคลตลอดชีพ Motor  Tricycle (Life)', '12. ใบอนุญาตขับรถจักรยานยนต์ตลอดชีพ Motorcycle (Life)', '     13. ใบอนุญาตขับรถยนต์สาธารณะ Public  Automobile', '     14. ใบอนุญาตขับรถยนต์สามล้อสาธารณะ Public  Motor  Tricycle', '     15. ใบอนุญาตขับรถจักรยานยนต์สาธารณะ Public  Motorcycle', '     16. ใบอนุญาตขับรถระหว่างประเทศ International  Driving  Licence', '     17. ใบอนุญาตขับรถบดถนน Tractor', '     18. ใบอนุญาตขับรถแทรกเตอร์ Tractor Driving Licence', '     19. ใบอนุญาตขับรถใช้งานเกษตรกรรม Farm Vehicle Driving Licence', '     20. ใบอนุญาตขับรถอื่นๆ Others Driving Licence'])\n"
     ]
    }
   ],
   "source": [
    "from openpyxl import *\n",
    "def find_inform():\n",
    "    wb = load_workbook('work.xlsx')\n",
    "    ws = wb['Sheet1']\n",
    "    lis = []\n",
    "    lis_type = []\n",
    "    dic = {}\n",
    "    for i in range(1, 7):\n",
    "        lis.append(ws.rows[0][i].value)\n",
    "    for i in range(1, 21):\n",
    "        lis_type.append(ws.rows[i][0].value.replace('      ', ''))\n",
    "        for j in range(7):\n",
    "            if j== 0:\n",
    "                dic.setdefault(ws.rows[i][0].value.replace('      ', ''))\n",
    "                dic[ws.rows[i][0].value.replace('      ', '')] = []\n",
    "            else:\n",
    "                dic[ws.rows[i][0].value.replace('      ', '')].append(ws.rows[i][j].value)\n",
    "    return lis, dic, lis_type\n",
    "print(find_inform())"
   ]
  },
  {
   "cell_type": "code",
   "execution_count": 7,
   "metadata": {
    "collapsed": false
   },
   "outputs": [
    {
     "name": "stdout",
     "output_type": "stream",
     "text": [
      "2\n"
     ]
    }
   ],
   "source": [
    "from pylab import *\n",
    "def draw_pie(type):\n",
    "\n",
    "    lis, dic, lis_type = find_inform()\n",
    "    # make a square figure and axes\n",
    "    figure(1, figsize=(10,10))\n",
    "    ax = axes([0.1, 0.1, 0.8, 0.8])\n",
    "\n",
    "    # The slices will be ordered and plotted counter-clockwise.\n",
    "    labels = lis\n",
    "    fracs = dic[lis_type[type]]\n",
    "    explode=0\n",
    "\n",
    "    pie(fracs, labels=labels,\n",
    "    autopct='%1.1f%%', shadow=True, startangle=30)\n",
    "                # The default startangle is 0, which would start\n",
    "                # the Frogs slice on the x-axis.  With startangle=90,\n",
    "                # everything is rotated counter-clockwise by 90 degrees,\n",
    "                # so the plotting starts on the positive y-axis.\n",
    "\n",
    "    title(lis_type[type] , bbox={'facecolor':'0.8', 'pad':5})\n",
    "    show()\n",
    "draw_pie(int(input()) - 1)"
   ]
  },
  {
   "cell_type": "code",
   "execution_count": null,
   "metadata": {
    "collapsed": true
   },
   "outputs": [],
   "source": []
  }
 ],
 "metadata": {
  "kernelspec": {
   "display_name": "Python 3",
   "language": "python",
   "name": "python3"
  },
  "language_info": {
   "codemirror_mode": {
    "name": "ipython",
    "version": 3
   },
   "file_extension": ".py",
   "mimetype": "text/x-python",
   "name": "python",
   "nbconvert_exporter": "python",
   "pygments_lexer": "ipython3",
   "version": "3.5.0"
  }
 },
 "nbformat": 4,
 "nbformat_minor": 0
}
